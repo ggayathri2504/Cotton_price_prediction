{
  "nbformat": 4,
  "nbformat_minor": 0,
  "metadata": {
    "colab": {
      "name": "auto arima.ipynb",
      "provenance": [],
      "collapsed_sections": []
    },
    "kernelspec": {
      "name": "python3",
      "display_name": "Python 3"
    },
    "language_info": {
      "name": "python"
    }
  },
  "cells": [
    {
      "cell_type": "code",
      "metadata": {
        "id": "MiE8WZuWGqOi",
        "colab": {
          "base_uri": "https://localhost:8080/"
        },
        "outputId": "28f87214-85e3-4457-f9a3-0dfd92623e30"
      },
      "source": [
        "#Libraries to be installed\n",
        "!pip install pmdarima"
      ],
      "execution_count": 1,
      "outputs": [
        {
          "output_type": "stream",
          "text": [
            "Collecting pmdarima\n",
            "\u001b[?25l  Downloading https://files.pythonhosted.org/packages/f4/c2/2a94bce6bba1deac3c0b16dbb14f28de0b9035e3211919cae8448455aa65/pmdarima-1.8.2-cp37-cp37m-manylinux1_x86_64.whl (1.5MB)\n",
            "\u001b[K     |████████████████████████████████| 1.5MB 31.4MB/s \n",
            "\u001b[?25hRequirement already satisfied: setuptools!=50.0.0,>=38.6.0 in /usr/local/lib/python3.7/dist-packages (from pmdarima) (57.0.0)\n",
            "Requirement already satisfied: pandas>=0.19 in /usr/local/lib/python3.7/dist-packages (from pmdarima) (1.1.5)\n",
            "Requirement already satisfied: scipy>=1.3.2 in /usr/local/lib/python3.7/dist-packages (from pmdarima) (1.4.1)\n",
            "Collecting statsmodels!=0.12.0,>=0.11\n",
            "\u001b[?25l  Downloading https://files.pythonhosted.org/packages/da/69/8eef30a6237c54f3c0b524140e2975f4b1eea3489b45eb3339574fc8acee/statsmodels-0.12.2-cp37-cp37m-manylinux1_x86_64.whl (9.5MB)\n",
            "\u001b[K     |████████████████████████████████| 9.5MB 44.2MB/s \n",
            "\u001b[?25hRequirement already satisfied: joblib>=0.11 in /usr/local/lib/python3.7/dist-packages (from pmdarima) (1.0.1)\n",
            "Requirement already satisfied: urllib3 in /usr/local/lib/python3.7/dist-packages (from pmdarima) (1.24.3)\n",
            "Requirement already satisfied: numpy~=1.19.0 in /usr/local/lib/python3.7/dist-packages (from pmdarima) (1.19.5)\n",
            "Requirement already satisfied: scikit-learn>=0.22 in /usr/local/lib/python3.7/dist-packages (from pmdarima) (0.22.2.post1)\n",
            "Requirement already satisfied: Cython!=0.29.18,>=0.29 in /usr/local/lib/python3.7/dist-packages (from pmdarima) (0.29.23)\n",
            "Requirement already satisfied: python-dateutil>=2.7.3 in /usr/local/lib/python3.7/dist-packages (from pandas>=0.19->pmdarima) (2.8.1)\n",
            "Requirement already satisfied: pytz>=2017.2 in /usr/local/lib/python3.7/dist-packages (from pandas>=0.19->pmdarima) (2018.9)\n",
            "Requirement already satisfied: patsy>=0.5 in /usr/local/lib/python3.7/dist-packages (from statsmodels!=0.12.0,>=0.11->pmdarima) (0.5.1)\n",
            "Requirement already satisfied: six>=1.5 in /usr/local/lib/python3.7/dist-packages (from python-dateutil>=2.7.3->pandas>=0.19->pmdarima) (1.15.0)\n",
            "Installing collected packages: statsmodels, pmdarima\n",
            "  Found existing installation: statsmodels 0.10.2\n",
            "    Uninstalling statsmodels-0.10.2:\n",
            "      Successfully uninstalled statsmodels-0.10.2\n",
            "Successfully installed pmdarima-1.8.2 statsmodels-0.12.2\n"
          ],
          "name": "stdout"
        }
      ]
    },
    {
      "cell_type": "code",
      "metadata": {
        "id": "pziR635ANwH_"
      },
      "source": [
        "#Importing libraries\n",
        "import pandas as pd\n",
        "import numpy as np\n",
        "import matplotlib.pyplot as plt\n",
        "import pmdarima as pmd\n",
        "from sklearn.metrics import confusion_matrix\n",
        "plt.style.use('dark_background')"
      ],
      "execution_count": 2,
      "outputs": []
    },
    {
      "cell_type": "code",
      "metadata": {
        "colab": {
          "base_uri": "https://localhost:8080/",
          "height": 195
        },
        "id": "fi8m_ES6CDkl",
        "outputId": "8454817c-85a2-4e91-e585-131c826c6df2"
      },
      "source": [
        "#Uploading Dataset\n",
        "df = pd.read_excel('dataset.xlsx')\n",
        "df.head()"
      ],
      "execution_count": 3,
      "outputs": [
        {
          "output_type": "execute_result",
          "data": {
            "text/html": [
              "<div>\n",
              "<style scoped>\n",
              "    .dataframe tbody tr th:only-of-type {\n",
              "        vertical-align: middle;\n",
              "    }\n",
              "\n",
              "    .dataframe tbody tr th {\n",
              "        vertical-align: top;\n",
              "    }\n",
              "\n",
              "    .dataframe thead th {\n",
              "        text-align: right;\n",
              "    }\n",
              "</style>\n",
              "<table border=\"1\" class=\"dataframe\">\n",
              "  <thead>\n",
              "    <tr style=\"text-align: right;\">\n",
              "      <th></th>\n",
              "      <th>DATE</th>\n",
              "      <th>VALUES</th>\n",
              "    </tr>\n",
              "  </thead>\n",
              "  <tbody>\n",
              "    <tr>\n",
              "      <th>0</th>\n",
              "      <td>1972-08-22</td>\n",
              "      <td>0.2673</td>\n",
              "    </tr>\n",
              "    <tr>\n",
              "      <th>1</th>\n",
              "      <td>1972-08-23</td>\n",
              "      <td>0.2703</td>\n",
              "    </tr>\n",
              "    <tr>\n",
              "      <th>2</th>\n",
              "      <td>1972-08-24</td>\n",
              "      <td>0.2706</td>\n",
              "    </tr>\n",
              "    <tr>\n",
              "      <th>3</th>\n",
              "      <td>1972-08-25</td>\n",
              "      <td>0.2722</td>\n",
              "    </tr>\n",
              "    <tr>\n",
              "      <th>4</th>\n",
              "      <td>1972-08-28</td>\n",
              "      <td>0.2704</td>\n",
              "    </tr>\n",
              "  </tbody>\n",
              "</table>\n",
              "</div>"
            ],
            "text/plain": [
              "        DATE  VALUES\n",
              "0 1972-08-22  0.2673\n",
              "1 1972-08-23  0.2703\n",
              "2 1972-08-24  0.2706\n",
              "3 1972-08-25  0.2722\n",
              "4 1972-08-28  0.2704"
            ]
          },
          "metadata": {
            "tags": []
          },
          "execution_count": 3
        }
      ]
    },
    {
      "cell_type": "code",
      "metadata": {
        "id": "Ww_faMSKnixt"
      },
      "source": [
        "#Data column is formatted and set as index\n",
        "df['DATE'] = pd.to_datetime(df['DATE'], format='%Y-%m-%d %H:%M:%S')\n",
        "df = df.set_index('DATE')"
      ],
      "execution_count": 4,
      "outputs": []
    },
    {
      "cell_type": "code",
      "metadata": {
        "colab": {
          "base_uri": "https://localhost:8080/"
        },
        "id": "2TyhBtIVG8nL",
        "outputId": "519e8242-9537-4a5b-9c4f-a3415162c036"
      },
      "source": [
        "#Splitting train and test dataset\n",
        "data = df.sort_index(ascending=True, axis=0)\n",
        "\n",
        "train = data[:9744]\n",
        "valid = data[9744:]\n",
        "\n",
        "training = train['VALUES']\n",
        "validation = valid['VALUES']\n",
        "\n",
        "#Model fitting\n",
        "model = pmd.auto_arima(training, start_p=1, start_q=1,max_p=3, max_q=3,start_P=0,seasonal=True,d=1, D=1, trace=True,error_action='ignore',suppress_warnings=True)\n",
        "model.fit(training)\n",
        "\n",
        "#Prediction using Auto-Arima\n",
        "forecast = model.predict(n_periods=2474)\n",
        "forecast = pd.DataFrame(forecast,index = valid.index,columns=['Prediction'])"
      ],
      "execution_count": 5,
      "outputs": [
        {
          "output_type": "stream",
          "text": [
            "Performing stepwise search to minimize aic\n",
            " ARIMA(1,1,1)(0,0,0)[0] intercept   : AIC=-59087.176, Time=1.76 sec\n",
            " ARIMA(0,1,0)(0,0,0)[0] intercept   : AIC=-58821.975, Time=1.16 sec\n",
            " ARIMA(1,1,0)(0,0,0)[0] intercept   : AIC=-59088.223, Time=0.77 sec\n",
            " ARIMA(0,1,1)(0,0,0)[0] intercept   : AIC=-59085.897, Time=3.49 sec\n",
            " ARIMA(0,1,0)(0,0,0)[0]             : AIC=-58823.382, Time=0.38 sec\n",
            " ARIMA(2,1,0)(0,0,0)[0] intercept   : AIC=-59087.197, Time=1.43 sec\n",
            " ARIMA(2,1,1)(0,0,0)[0] intercept   : AIC=-59085.195, Time=2.64 sec\n",
            " ARIMA(1,1,0)(0,0,0)[0]             : AIC=-59089.797, Time=0.27 sec\n",
            " ARIMA(2,1,0)(0,0,0)[0]             : AIC=-59088.763, Time=0.60 sec\n",
            " ARIMA(1,1,1)(0,0,0)[0]             : AIC=-59088.744, Time=0.66 sec\n",
            " ARIMA(0,1,1)(0,0,0)[0]             : AIC=-59087.342, Time=0.58 sec\n",
            " ARIMA(2,1,1)(0,0,0)[0]             : AIC=-59086.760, Time=0.81 sec\n",
            "\n",
            "Best model:  ARIMA(1,1,0)(0,0,0)[0]          \n",
            "Total fit time: 14.576 seconds\n"
          ],
          "name": "stdout"
        }
      ]
    },
    {
      "cell_type": "code",
      "metadata": {
        "id": "JskF8418HLId",
        "colab": {
          "base_uri": "https://localhost:8080/"
        },
        "outputId": "92ee6676-59ba-47f7-d1d0-cfca9bbebeb8"
      },
      "source": [
        "#Calculating the rmse value\n",
        "rmse=np.sqrt(np.mean(np.power((np.array(valid['VALUES'])-np.array(forecast['Prediction'])),2)))\n",
        "rmse"
      ],
      "execution_count": 6,
      "outputs": [
        {
          "output_type": "execute_result",
          "data": {
            "text/plain": [
              "0.43730188483992743"
            ]
          },
          "metadata": {
            "tags": []
          },
          "execution_count": 6
        }
      ]
    },
    {
      "cell_type": "code",
      "metadata": {
        "id": "2DIcCVTnHOTs",
        "colab": {
          "base_uri": "https://localhost:8080/",
          "height": 343
        },
        "outputId": "ba256cb6-52ea-4df5-a85c-4d84ccafa0b8"
      },
      "source": [
        "#Plotting the predicted values\n",
        "plt.plot(train['VALUES'])\n",
        "plt.plot(valid['VALUES'])\n",
        "plt.title('AUTO-ARIMA MODEL')\n",
        "plt.xlabel('DATE(YEARS)',fontsize=18)\n",
        "plt.ylabel('COTTON PRICE(USD per pounds)',fontsize=18)\n",
        "\n",
        "plt.plot(forecast['Prediction'])"
      ],
      "execution_count": 7,
      "outputs": [
        {
          "output_type": "execute_result",
          "data": {
            "text/plain": [
              "[<matplotlib.lines.Line2D at 0x7fd496135850>]"
            ]
          },
          "metadata": {
            "tags": []
          },
          "execution_count": 7
        },
        {
          "output_type": "display_data",
          "data": {
            "image/png": "[encoded data removed]",
            "text/plain": [
              "<Figure size 432x288 with 1 Axes>"
            ]
          },
          "metadata": {
            "tags": []
          }
        }
      ]
    },
    {
      "cell_type": "code",
      "metadata": {
        "id": "fwpJhg-HS0OH"
      },
      "source": [
        "#Reshaping the values\n",
        "val_x = []\n",
        "\n",
        "val_pred = []\n",
        "val_x = valid['VALUES']\n",
        "val_pred = forecast['Prediction']\n",
        "\n",
        "val_x =val_x.to_numpy().reshape(-1,1)\n",
        "val_pred=val_pred.to_numpy().reshape(-1,1)"
      ],
      "execution_count": 8,
      "outputs": []
    },
    {
      "cell_type": "code",
      "metadata": {
        "id": "TocxF7VAe9kt"
      },
      "source": [
        "cutoff = 0.9                             # decide on a cutoff limit\n",
        "y_pred_classes = np.zeros_like(val_pred)    # initialise a matrix full with zeros\n",
        "y_pred_classes[val_pred > cutoff] = 1  \n",
        "y_test_classes = np.zeros_like(val_pred)\n",
        "y_test_classes[val_x > cutoff] = 1\n",
        "cm =confusion_matrix(y_test_classes, y_pred_classes)"
      ],
      "execution_count": 9,
      "outputs": []
    },
    {
      "cell_type": "code",
      "metadata": {
        "colab": {
          "base_uri": "https://localhost:8080/"
        },
        "id": "3dzdbK-IfB4E",
        "outputId": "5f6b1de7-dd57-4e77-ca84-1b3ef5d59d00"
      },
      "source": [
        "#Calculating the model accuracy\n",
        "rmse=np.sqrt(np.mean(np.power((np.array(valid['VALUES'])-np.array(forecast['Prediction'])),2)))\n",
        "print(\"****AUTO ARIMA****\")\n",
        "print(\"RMSE value : \",rmse)\n",
        "TP, FP, FN, TN = cm[0][0],cm[0][1],cm[1][0],cm[1][1]\n",
        "ACC = (TP+TN)/(TP+TN+FP+FN)\n",
        "print(\"ACCURACY : \",ACC)"
      ],
      "execution_count": 10,
      "outputs": [
        {
          "output_type": "stream",
          "text": [
            "****AUTO ARIMA****\n",
            "RMSE value :  0.43730188483992743\n",
            "ACCURACY :  0.09943411479385611\n"
          ],
          "name": "stdout"
        }
      ]
    },
    {
      "cell_type": "code",
      "metadata": {
        "id": "fWgCUmKAfY7W"
      },
      "source": [
        ""
      ],
      "execution_count": null,
      "outputs": []
    }
  ]
}
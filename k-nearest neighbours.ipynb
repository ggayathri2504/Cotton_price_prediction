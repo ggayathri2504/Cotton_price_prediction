{
  "nbformat": 4,
  "nbformat_minor": 0,
  "metadata": {
    "colab": {
      "name": "knn.ipynb",
      "provenance": [],
      "collapsed_sections": []
    },
    "kernelspec": {
      "name": "python3",
      "display_name": "Python 3"
    },
    "language_info": {
      "name": "python"
    }
  },
  "cells": [
    {
      "cell_type": "code",
      "metadata": {
        "id": "4wz6dSpDpx9H"
      },
      "source": [
        "#Importing libraries\n",
        "from sklearn import neighbors\n",
        "import numpy as np\n",
        "from sklearn.model_selection import GridSearchCV\n",
        "from sklearn.preprocessing import MinMaxScaler\n",
        "from sklearn.metrics import confusion_matrix\n",
        "scaler = MinMaxScaler(feature_range=(0, 1))\n",
        "import matplotlib.pyplot as plt\n",
        "plt.style.use('dark_background')"
      ],
      "execution_count": 8,
      "outputs": []
    },
    {
      "cell_type": "code",
      "metadata": {
        "colab": {
          "base_uri": "https://localhost:8080/",
          "height": 195
        },
        "id": "uY7qkKYAp8-M",
        "outputId": "2e6825b0-51e0-49fe-d38c-d0d45d069937"
      },
      "source": [
        "#Uploading the dataset\n",
        "import pandas as pd\n",
        "df = pd.read_excel('dataset.xlsx')\n",
        "df.head()"
      ],
      "execution_count": 2,
      "outputs": [
        {
          "output_type": "execute_result",
          "data": {
            "text/html": [
              "<div>\n",
              "<style scoped>\n",
              "    .dataframe tbody tr th:only-of-type {\n",
              "        vertical-align: middle;\n",
              "    }\n",
              "\n",
              "    .dataframe tbody tr th {\n",
              "        vertical-align: top;\n",
              "    }\n",
              "\n",
              "    .dataframe thead th {\n",
              "        text-align: right;\n",
              "    }\n",
              "</style>\n",
              "<table border=\"1\" class=\"dataframe\">\n",
              "  <thead>\n",
              "    <tr style=\"text-align: right;\">\n",
              "      <th></th>\n",
              "      <th>DATE</th>\n",
              "      <th>VALUES</th>\n",
              "    </tr>\n",
              "  </thead>\n",
              "  <tbody>\n",
              "    <tr>\n",
              "      <th>0</th>\n",
              "      <td>1972-08-22</td>\n",
              "      <td>0.2673</td>\n",
              "    </tr>\n",
              "    <tr>\n",
              "      <th>1</th>\n",
              "      <td>1972-08-23</td>\n",
              "      <td>0.2703</td>\n",
              "    </tr>\n",
              "    <tr>\n",
              "      <th>2</th>\n",
              "      <td>1972-08-24</td>\n",
              "      <td>0.2706</td>\n",
              "    </tr>\n",
              "    <tr>\n",
              "      <th>3</th>\n",
              "      <td>1972-08-25</td>\n",
              "      <td>0.2722</td>\n",
              "    </tr>\n",
              "    <tr>\n",
              "      <th>4</th>\n",
              "      <td>1972-08-28</td>\n",
              "      <td>0.2704</td>\n",
              "    </tr>\n",
              "  </tbody>\n",
              "</table>\n",
              "</div>"
            ],
            "text/plain": [
              "        DATE  VALUES\n",
              "0 1972-08-22  0.2673\n",
              "1 1972-08-23  0.2703\n",
              "2 1972-08-24  0.2706\n",
              "3 1972-08-25  0.2722\n",
              "4 1972-08-28  0.2704"
            ]
          },
          "metadata": {
            "tags": []
          },
          "execution_count": 2
        }
      ]
    },
    {
      "cell_type": "code",
      "metadata": {
        "id": "rZflla82qLRo"
      },
      "source": [
        "#Date column is formatted and set as index\n",
        "df['DATE'] = pd.to_datetime(df.DATE,format='%Y-%m-%d')\n",
        "df.index = df['DATE']\n",
        "\n",
        "#sorting\n",
        "data = df.sort_index(ascending=True, axis=0)\n",
        "\n",
        "#creating a separate dataset\n",
        "new_data = pd.DataFrame(index=range(0,len(df)),columns=['DATE', 'VALUES'])\n",
        "\n",
        "for i in range(0,len(data)):\n",
        "    new_data['DATE'][i] = data['DATE'][i]\n",
        "    new_data['VALUES'][i] = data['VALUES'][i]"
      ],
      "execution_count": 3,
      "outputs": []
    },
    {
      "cell_type": "code",
      "metadata": {
        "id": "n-t3zV_4qdp1"
      },
      "source": [
        "#Splitting train and test set\n",
        "train = df[:9744]\n",
        "valid = df[9744:]\n",
        "\n",
        "x_train = train.drop('VALUES', axis=1)\n",
        "y_train = train['VALUES']\n",
        "x_valid = valid.drop('VALUES', axis=1)\n",
        "y_valid = valid['VALUES']\n",
        "\n",
        "x_train_scaled = scaler.fit_transform(x_train)\n",
        "x_train = pd.DataFrame(x_train_scaled)\n",
        "x_valid_scaled = scaler.fit_transform(x_valid)\n",
        "x_valid = pd.DataFrame(x_valid_scaled)"
      ],
      "execution_count": 4,
      "outputs": []
    },
    {
      "cell_type": "code",
      "metadata": {
        "id": "hYtMIcxnq6Hm"
      },
      "source": [
        "#Model fitting and making predictions\n",
        "\n",
        "params = {'n_neighbors':[2,3,4,5,6,7,8,9]}\n",
        "knn = neighbors.KNeighborsRegressor()\n",
        "model = GridSearchCV(knn, params, cv=5)\n",
        "model.fit(x_train,y_train)\n",
        "preds = model.predict(x_valid)"
      ],
      "execution_count": 5,
      "outputs": []
    },
    {
      "cell_type": "code",
      "metadata": {
        "id": "dhsvGlpprGXz"
      },
      "source": [
        "#Calculating the rmse value\n",
        "rms=np.sqrt(np.mean(np.power((np.array(y_valid)-np.array(preds)),2)))"
      ],
      "execution_count": 6,
      "outputs": []
    },
    {
      "cell_type": "code",
      "metadata": {
        "colab": {
          "base_uri": "https://localhost:8080/",
          "height": 545
        },
        "id": "1H9MM6OPr9sq",
        "outputId": "528f532c-105a-4820-cc7d-6eb4a9e30c85"
      },
      "source": [
        "#Plotting the predicted values\n",
        "valid['Predictions'] = 0\n",
        "valid['Predictions'] = preds\n",
        "plt.plot(valid[['VALUES', 'Predictions']])\n",
        "plt.title('KNN MODEL')\n",
        "plt.xlabel('DATE(YEARS)',fontsize=18)\n",
        "plt.ylabel('COTTON PRICE(USD per pounds)',fontsize=18)\n",
        "plt.plot(train['VALUES'])"
      ],
      "execution_count": 9,
      "outputs": [
        {
          "output_type": "stream",
          "text": [
            "/usr/local/lib/python3.7/dist-packages/ipykernel_launcher.py:2: SettingWithCopyWarning: \n",
            "A value is trying to be set on a copy of a slice from a DataFrame.\n",
            "Try using .loc[row_indexer,col_indexer] = value instead\n",
            "\n",
            "See the caveats in the documentation: https://pandas.pydata.org/pandas-docs/stable/user_guide/indexing.html#returning-a-view-versus-a-copy\n",
            "  \n",
            "/usr/local/lib/python3.7/dist-packages/ipykernel_launcher.py:3: SettingWithCopyWarning: \n",
            "A value is trying to be set on a copy of a slice from a DataFrame.\n",
            "Try using .loc[row_indexer,col_indexer] = value instead\n",
            "\n",
            "See the caveats in the documentation: https://pandas.pydata.org/pandas-docs/stable/user_guide/indexing.html#returning-a-view-versus-a-copy\n",
            "  This is separate from the ipykernel package so we can avoid doing imports until\n"
          ],
          "name": "stderr"
        },
        {
          "output_type": "execute_result",
          "data": {
            "text/plain": [
              "[<matplotlib.lines.Line2D at 0x7fc4c4338990>]"
            ]
          },
          "metadata": {
            "tags": []
          },
          "execution_count": 9
        },
        {
          "output_type": "display_data",
          "data": {
            "image/png": "[encoded data removed]",
            "text/plain": [
              "<Figure size 432x288 with 1 Axes>"
            ]
          },
          "metadata": {
            "tags": []
          }
        }
      ]
    },
    {
      "cell_type": "code",
      "metadata": {
        "id": "MoVHsGV1sMQI"
      },
      "source": [
        "#Reshaping the values\n",
        "val_x = []\n",
        "\n",
        "val_pred = []\n",
        "val_x = valid['VALUES']\n",
        "val_pred = valid['Predictions']\n",
        "\n",
        "val_x =val_x.to_numpy().reshape(-1,1)\n",
        "val_pred=val_pred.to_numpy().reshape(-1,1)"
      ],
      "execution_count": 10,
      "outputs": []
    },
    {
      "cell_type": "code",
      "metadata": {
        "id": "YiXECjFzcSih"
      },
      "source": [
        "cutoff = 0.9                             # decide on a cutoff limit\n",
        "y_pred_classes = np.zeros_like(val_pred)    # initialise a matrix full with zeros\n",
        "y_pred_classes[val_pred > cutoff] = 1  \n",
        "y_test_classes = np.zeros_like(val_pred)\n",
        "y_test_classes[val_x > cutoff] = 1\n",
        "cm =confusion_matrix(y_test_classes, y_pred_classes)"
      ],
      "execution_count": 11,
      "outputs": []
    },
    {
      "cell_type": "code",
      "metadata": {
        "colab": {
          "base_uri": "https://localhost:8080/"
        },
        "id": "dVoWjefccU-w",
        "outputId": "109baa43-4220-4ef1-a9b4-a5bd3476372f"
      },
      "source": [
        "#Calculating model accuracy\n",
        "TP, FP, FN, TN = cm[0][0],cm[0][1],cm[1][0],cm[1][1]\n",
        "ACC = (TP+TN)/(TP+TN+FP+FN)\n",
        "print(\"*****KNN****\")\n",
        "print(\"RMSE value : \",rms)\n",
        "print(\"ACCURACY : \",ACC)"
      ],
      "execution_count": 12,
      "outputs": [
        {
          "output_type": "stream",
          "text": [
            "*****KNN****\n",
            "RMSE value :  0.23223387869343529\n",
            "ACCURACY :  0.8662085691188359\n"
          ],
          "name": "stdout"
        }
      ]
    },
    {
      "cell_type": "code",
      "metadata": {
        "id": "ecj81c8NcixH"
      },
      "source": [
        ""
      ],
      "execution_count": null,
      "outputs": []
    }
  ]
}
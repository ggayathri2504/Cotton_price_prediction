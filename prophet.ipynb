{
  "nbformat": 4,
  "nbformat_minor": 0,
  "metadata": {
    "colab": {
      "name": "prophet.ipynb",
      "provenance": [],
      "collapsed_sections": []
    },
    "kernelspec": {
      "name": "python3",
      "display_name": "Python 3"
    },
    "language_info": {
      "name": "python"
    }
  },
  "cells": [
    {
      "cell_type": "code",
      "metadata": {
        "id": "bxwHDO7JwXxq"
      },
      "source": [
        "#importing libraries\n",
        "import pandas as pd\n",
        "import numpy as np\n",
        "import matplotlib.pyplot as plt\n",
        "from fbprophet import Prophet\n",
        "from sklearn.metrics import confusion_matrix\n",
        "plt.style.use('dark_background')"
      ],
      "execution_count": 6,
      "outputs": []
    },
    {
      "cell_type": "code",
      "metadata": {
        "colab": {
          "base_uri": "https://localhost:8080/",
          "height": 195
        },
        "id": "RkKTu2N7wy6X",
        "outputId": "1c5c6e3a-7adf-48f5-8ffb-e3d48e958c8f"
      },
      "source": [
        "#Uploading dataset\n",
        "data = pd.read_excel('dataset.xlsx')\n",
        "data.head()"
      ],
      "execution_count": 2,
      "outputs": [
        {
          "output_type": "execute_result",
          "data": {
            "text/html": [
              "<div>\n",
              "<style scoped>\n",
              "    .dataframe tbody tr th:only-of-type {\n",
              "        vertical-align: middle;\n",
              "    }\n",
              "\n",
              "    .dataframe tbody tr th {\n",
              "        vertical-align: top;\n",
              "    }\n",
              "\n",
              "    .dataframe thead th {\n",
              "        text-align: right;\n",
              "    }\n",
              "</style>\n",
              "<table border=\"1\" class=\"dataframe\">\n",
              "  <thead>\n",
              "    <tr style=\"text-align: right;\">\n",
              "      <th></th>\n",
              "      <th>DATE</th>\n",
              "      <th>VALUES</th>\n",
              "    </tr>\n",
              "  </thead>\n",
              "  <tbody>\n",
              "    <tr>\n",
              "      <th>0</th>\n",
              "      <td>1972-08-22</td>\n",
              "      <td>0.2673</td>\n",
              "    </tr>\n",
              "    <tr>\n",
              "      <th>1</th>\n",
              "      <td>1972-08-23</td>\n",
              "      <td>0.2703</td>\n",
              "    </tr>\n",
              "    <tr>\n",
              "      <th>2</th>\n",
              "      <td>1972-08-24</td>\n",
              "      <td>0.2706</td>\n",
              "    </tr>\n",
              "    <tr>\n",
              "      <th>3</th>\n",
              "      <td>1972-08-25</td>\n",
              "      <td>0.2722</td>\n",
              "    </tr>\n",
              "    <tr>\n",
              "      <th>4</th>\n",
              "      <td>1972-08-28</td>\n",
              "      <td>0.2704</td>\n",
              "    </tr>\n",
              "  </tbody>\n",
              "</table>\n",
              "</div>"
            ],
            "text/plain": [
              "        DATE  VALUES\n",
              "0 1972-08-22  0.2673\n",
              "1 1972-08-23  0.2703\n",
              "2 1972-08-24  0.2706\n",
              "3 1972-08-25  0.2722\n",
              "4 1972-08-28  0.2704"
            ]
          },
          "metadata": {
            "tags": []
          },
          "execution_count": 2
        }
      ]
    },
    {
      "cell_type": "code",
      "metadata": {
        "id": "i1FjNrYhwiA4",
        "colab": {
          "base_uri": "https://localhost:8080/"
        },
        "outputId": "f72351a7-7ba5-426d-a650-4c07493c7902"
      },
      "source": [
        "new_data = pd.DataFrame(index=range(0,len(data)),columns=['DATE', 'VALUES'])\n",
        "\n",
        "for i in range(0,len(data)):\n",
        "    new_data['DATE'][i] = data['DATE'][i]\n",
        "    new_data['VALUES'][i] = data['VALUES'][i]\n",
        "\n",
        "#Data column is formatted and set as index\n",
        "new_data['DATE'] = pd.to_datetime(new_data.DATE,format='%Y-%m-%d')\n",
        "new_data.index = new_data['DATE']\n",
        "\n",
        "#Preparing data\n",
        "new_data.rename(columns={'VALUES': 'y', 'DATE': 'ds'}, inplace=True)\n",
        "\n",
        "#Splitting train and test dataset \n",
        "train = new_data[:9744]\n",
        "valid = new_data[9744:]\n",
        "\n",
        "#Fitting the model\n",
        "model = Prophet(daily_seasonality=True)\n",
        "model.fit(train)\n",
        "\n",
        "#Prediction using prophet\n",
        "close_prices = model.make_future_dataframe(periods=len(valid))\n",
        "forecast = model.predict(close_prices)"
      ],
      "execution_count": 3,
      "outputs": [
        {
          "output_type": "stream",
          "text": [
            "INFO:numexpr.utils:NumExpr defaulting to 2 threads.\n"
          ],
          "name": "stderr"
        }
      ]
    },
    {
      "cell_type": "code",
      "metadata": {
        "colab": {
          "base_uri": "https://localhost:8080/"
        },
        "id": "BTpBgnjxwiv5",
        "outputId": "29396c4f-d14f-48aa-fbb3-e9c02207beaf"
      },
      "source": [
        "#Calculating the rmse value\n",
        "forecast_valid = forecast['yhat'][9744:]\n",
        "rms=np.sqrt(np.mean(np.power((np.array(valid['y'])-np.array(forecast_valid)),2)))\n",
        "rms"
      ],
      "execution_count": 4,
      "outputs": [
        {
          "output_type": "execute_result",
          "data": {
            "text/plain": [
              "0.5521703910904947"
            ]
          },
          "metadata": {
            "tags": []
          },
          "execution_count": 4
        }
      ]
    },
    {
      "cell_type": "code",
      "metadata": {
        "colab": {
          "base_uri": "https://localhost:8080/",
          "height": 595
        },
        "id": "o7duTP4RwsXq",
        "outputId": "646f228e-55f9-45d3-9419-22d70a014622"
      },
      "source": [
        "#Plotting the predicted values\n",
        "valid['Predictions'] = 0\n",
        "valid['Predictions'] = forecast_valid.values\n",
        "plt.title('PROPHET MODEL')\n",
        "plt.xlabel('DATE(YEARS)',fontsize=18)\n",
        "plt.ylabel('COTTON PRICE(USD per pounds)',fontsize=18)\n",
        "plt.plot(train['y'])\n",
        "plt.plot(valid[['y', 'Predictions']])\n",
        "plt.show()"
      ],
      "execution_count": 7,
      "outputs": [
        {
          "output_type": "stream",
          "text": [
            "/usr/local/lib/python3.7/dist-packages/ipykernel_launcher.py:2: SettingWithCopyWarning:\n",
            "\n",
            "\n",
            "A value is trying to be set on a copy of a slice from a DataFrame.\n",
            "Try using .loc[row_indexer,col_indexer] = value instead\n",
            "\n",
            "See the caveats in the documentation: https://pandas.pydata.org/pandas-docs/stable/user_guide/indexing.html#returning-a-view-versus-a-copy\n",
            "\n",
            "/usr/local/lib/python3.7/dist-packages/ipykernel_launcher.py:3: SettingWithCopyWarning:\n",
            "\n",
            "\n",
            "A value is trying to be set on a copy of a slice from a DataFrame.\n",
            "Try using .loc[row_indexer,col_indexer] = value instead\n",
            "\n",
            "See the caveats in the documentation: https://pandas.pydata.org/pandas-docs/stable/user_guide/indexing.html#returning-a-view-versus-a-copy\n",
            "\n"
          ],
          "name": "stderr"
        },
        {
          "output_type": "display_data",
          "data": {
            "image/png": "[encoded data removed]",
            "text/plain": [
              "<Figure size 432x288 with 1 Axes>"
            ]
          },
          "metadata": {
            "tags": []
          }
        }
      ]
    },
    {
      "cell_type": "code",
      "metadata": {
        "id": "DQlsQHrLxqB3"
      },
      "source": [
        "#Reshaping the values\n",
        "val_x = []\n",
        "\n",
        "val_pred = []\n",
        "val_x = valid['y']\n",
        "val_pred = valid['Predictions']\n",
        "\n",
        "val_x =val_x.to_numpy().reshape(-1,1)\n",
        "val_pred=val_pred.to_numpy().reshape(-1,1)"
      ],
      "execution_count": 8,
      "outputs": []
    },
    {
      "cell_type": "code",
      "metadata": {
        "id": "8El0YfGZbovx"
      },
      "source": [
        "cutoff = 0.9                             # decide on a cutoff limit\n",
        "y_pred_classes = np.zeros_like(val_pred)    # initialise a matrix full with zeros\n",
        "y_pred_classes[val_pred > cutoff] = 1  \n",
        "y_test_classes = np.zeros_like(val_pred)\n",
        "y_test_classes[val_x > cutoff] = 1\n",
        "cm =confusion_matrix(y_test_classes, y_pred_classes)"
      ],
      "execution_count": 9,
      "outputs": []
    },
    {
      "cell_type": "code",
      "metadata": {
        "colab": {
          "base_uri": "https://localhost:8080/"
        },
        "id": "i3VBsTjgbplF",
        "outputId": "086bf7fe-4e84-484a-aafc-86a110738cc0"
      },
      "source": [
        "#Calculating the model accuracy\n",
        "TP, FP, FN, TN = cm[0][0],cm[0][1],cm[1][0],cm[1][1]\n",
        "ACC = (TP+TN)/(TP+TN+FP+FN)\n",
        "print(\"****Prophet****\")\n",
        "print(\"RMSE value : \",rms)\n",
        "print(\"ACCURACY: \", ACC)"
      ],
      "execution_count": 10,
      "outputs": [
        {
          "output_type": "stream",
          "text": [
            "****Prophet****\n",
            "RMSE value :  0.5521703910904947\n",
            "ACCURACY:  0.09943411479385611\n"
          ],
          "name": "stdout"
        }
      ]
    },
    {
      "cell_type": "code",
      "metadata": {
        "id": "3YwWFqQcbwav"
      },
      "source": [
        ""
      ],
      "execution_count": null,
      "outputs": []
    }
  ]
}